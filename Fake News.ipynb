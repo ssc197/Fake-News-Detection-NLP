{
 "cells": [
  {
   "cell_type": "code",
   "execution_count": 45,
   "metadata": {
    "scrolled": true
   },
   "outputs": [],
   "source": [
    "import numpy as np # linear algebra\n",
    "import pandas as pd # data processing, CSV file I/O (e.g. pd.read_csv)\n",
    "import re\n",
    "from nltk.corpus import stopwords\n",
    "import nltk\n",
    "import matplotlib.pyplot as plt\n",
    "import seaborn as sb\n",
    "%matplotlib inline\n",
    "%config InlineBackend.figure_format = 'retina'\n",
    "from string import punctuation\n",
    "from nltk.stem.porter import *\n",
    "from nltk import word_tokenize\n",
    "from nltk.stem import LancasterStemmer\n",
    "from nltk.stem import WordNetLemmatizer #word stemmer class\n",
    "import os\n",
    "import gensim\n",
    "from sklearn.linear_model import LogisticRegression\n",
    "\n",
    "from sklearn.naive_bayes import GaussianNB\n",
    "from sklearn.ensemble import BaggingClassifier, RandomForestClassifier\n",
    "from sklearn.tree import DecisionTreeClassifier\n",
    "from sklearn.linear_model import LogisticRegression\n",
    "from sklearn.ensemble import GradientBoostingClassifier  #GBM algorithm\n",
    "from sklearn import svm\n",
    "import xgboost as xgb\n",
    "XGBClassifier = xgb.XGBClassifier\n",
    "\n",
    "\n",
    "from sklearn.metrics import confusion_matrix, classification_report, accuracy_score, roc_auc_score, roc_curve\n",
    "from sklearn.metrics import precision_score\n",
    "\n",
    "from sklearn.pipeline import Pipeline\n",
    "from sklearn.feature_extraction.text import CountVectorizer, TfidfVectorizer, TfidfTransformer \n",
    "from sklearn.model_selection import RandomizedSearchCV,GridSearchCV\n",
    "import warnings\n",
    "warnings.filterwarnings(\"ignore\")\n",
    "stop_words = list(punctuation)+['``', \"'s\", \"...\"]+['i', 'me', 'my', 'myself', 'we', 'our', 'ours', 'ourselves', 'you', \"you're\", \"you've\", \"you'll\", \"you'd\", 'your', 'yours', 'yourself', 'yourselves', 'he', 'him', 'his', 'himself', 'she', \"she's\", 'her', 'hers', 'herself', 'it', \"it's\", 'its', 'itself', 'they', 'them', 'their', 'theirs', 'themselves', 'what', 'which', 'who', 'whom', 'this', 'that', \"that'll\", 'these', 'those', 'am', 'is', 'are', 'was', 'were', 'be', 'been', 'being', 'have', 'has', 'had', 'having', 'do', 'does', 'did', 'doing', 'a', 'an', 'the', 'and', 'but', 'if', 'or', 'because', 'as', 'until', 'while', 'of', 'at', 'by', 'for', 'with', 'about', 'against', 'between', 'into', 'through', 'during', 'before', 'after', 'above', 'below', 'to', 'from', 'up', 'down', 'in', 'out', 'on', 'off', 'over', 'under', 'again', 'further', 'then', 'once', 'here', 'there', 'when', 'where', 'why', 'how', 'all', 'any', 'both', 'each', 'few', 'more', 'most', 'other', 'some', 'such', 'only', 'own', 'same', 'so', 'than', 'too', 'very', 'can', 'will', 'just', 'don', 'should', \"should've\", 'now', 'd', 'll', 'm', 'o', 're', 've', 'y',  'ma', 'mightn', 'needn', 'shouldn', \"shouldn't\"]"
   ]
  },
  {
   "cell_type": "code",
   "execution_count": 46,
   "metadata": {},
   "outputs": [
    {
     "name": "stdout",
     "output_type": "stream",
     "text": [
      "<class 'pandas.core.frame.DataFrame'>\n",
      "RangeIndex: 20800 entries, 0 to 20799\n",
      "Data columns (total 5 columns):\n",
      "id        20800 non-null int64\n",
      "title     20242 non-null object\n",
      "author    18843 non-null object\n",
      "text      20761 non-null object\n",
      "label     20800 non-null int64\n",
      "dtypes: int64(2), object(3)\n",
      "memory usage: 812.6+ KB\n"
     ]
    }
   ],
   "source": [
    "#1: unreliable\n",
    "#0: reliable\n",
    "df_train=pd.read_csv('train.csv')\n",
    "df_validation=pd.read_csv('test.csv')\n",
    "\n",
    "df_train.info()"
   ]
  },
  {
   "cell_type": "code",
   "execution_count": 47,
   "metadata": {},
   "outputs": [
    {
     "data": {
      "text/html": [
       "<div>\n",
       "<style scoped>\n",
       "    .dataframe tbody tr th:only-of-type {\n",
       "        vertical-align: middle;\n",
       "    }\n",
       "\n",
       "    .dataframe tbody tr th {\n",
       "        vertical-align: top;\n",
       "    }\n",
       "\n",
       "    .dataframe thead th {\n",
       "        text-align: right;\n",
       "    }\n",
       "</style>\n",
       "<table border=\"1\" class=\"dataframe\">\n",
       "  <thead>\n",
       "    <tr style=\"text-align: right;\">\n",
       "      <th></th>\n",
       "      <th>id</th>\n",
       "      <th>title</th>\n",
       "      <th>author</th>\n",
       "      <th>text</th>\n",
       "      <th>label</th>\n",
       "    </tr>\n",
       "  </thead>\n",
       "  <tbody>\n",
       "    <tr>\n",
       "      <td>0</td>\n",
       "      <td>0</td>\n",
       "      <td>House Dem Aide: We Didn’t Even See Comey’s Let...</td>\n",
       "      <td>Darrell Lucus</td>\n",
       "      <td>House Dem Aide: We Didn’t Even See Comey’s Let...</td>\n",
       "      <td>1</td>\n",
       "    </tr>\n",
       "    <tr>\n",
       "      <td>1</td>\n",
       "      <td>1</td>\n",
       "      <td>FLYNN: Hillary Clinton, Big Woman on Campus - ...</td>\n",
       "      <td>Daniel J. Flynn</td>\n",
       "      <td>Ever get the feeling your life circles the rou...</td>\n",
       "      <td>0</td>\n",
       "    </tr>\n",
       "    <tr>\n",
       "      <td>2</td>\n",
       "      <td>2</td>\n",
       "      <td>Why the Truth Might Get You Fired</td>\n",
       "      <td>Consortiumnews.com</td>\n",
       "      <td>Why the Truth Might Get You Fired October 29, ...</td>\n",
       "      <td>1</td>\n",
       "    </tr>\n",
       "    <tr>\n",
       "      <td>3</td>\n",
       "      <td>3</td>\n",
       "      <td>15 Civilians Killed In Single US Airstrike Hav...</td>\n",
       "      <td>Jessica Purkiss</td>\n",
       "      <td>Videos 15 Civilians Killed In Single US Airstr...</td>\n",
       "      <td>1</td>\n",
       "    </tr>\n",
       "    <tr>\n",
       "      <td>4</td>\n",
       "      <td>4</td>\n",
       "      <td>Iranian woman jailed for fictional unpublished...</td>\n",
       "      <td>Howard Portnoy</td>\n",
       "      <td>Print \\nAn Iranian woman has been sentenced to...</td>\n",
       "      <td>1</td>\n",
       "    </tr>\n",
       "  </tbody>\n",
       "</table>\n",
       "</div>"
      ],
      "text/plain": [
       "   id                                              title              author  \\\n",
       "0   0  House Dem Aide: We Didn’t Even See Comey’s Let...       Darrell Lucus   \n",
       "1   1  FLYNN: Hillary Clinton, Big Woman on Campus - ...     Daniel J. Flynn   \n",
       "2   2                  Why the Truth Might Get You Fired  Consortiumnews.com   \n",
       "3   3  15 Civilians Killed In Single US Airstrike Hav...     Jessica Purkiss   \n",
       "4   4  Iranian woman jailed for fictional unpublished...      Howard Portnoy   \n",
       "\n",
       "                                                text  label  \n",
       "0  House Dem Aide: We Didn’t Even See Comey’s Let...      1  \n",
       "1  Ever get the feeling your life circles the rou...      0  \n",
       "2  Why the Truth Might Get You Fired October 29, ...      1  \n",
       "3  Videos 15 Civilians Killed In Single US Airstr...      1  \n",
       "4  Print \\nAn Iranian woman has been sentenced to...      1  "
      ]
     },
     "execution_count": 47,
     "metadata": {},
     "output_type": "execute_result"
    }
   ],
   "source": [
    "df_train.head()"
   ]
  },
  {
   "cell_type": "code",
   "execution_count": 48,
   "metadata": {},
   "outputs": [
    {
     "data": {
      "text/plain": [
       "id           0\n",
       "title      558\n",
       "author    1957\n",
       "text        39\n",
       "label        0\n",
       "dtype: int64"
      ]
     },
     "execution_count": 48,
     "metadata": {},
     "output_type": "execute_result"
    }
   ],
   "source": [
    "\n",
    "df_train.isna().sum()    #get na"
   ]
  },
  {
   "cell_type": "code",
   "execution_count": 49,
   "metadata": {},
   "outputs": [],
   "source": [
    "df_train=df_train.fillna(' ')"
   ]
  },
  {
   "cell_type": "code",
   "execution_count": 50,
   "metadata": {},
   "outputs": [],
   "source": [
    "df_train['total']=df_train['title']+' '+df_train['author']+df_train['text']\n",
    "df_validation['total']=df_validation['title']+' '+df_validation['author']+df_validation['text']"
   ]
  },
  {
   "cell_type": "code",
   "execution_count": 51,
   "metadata": {},
   "outputs": [],
   "source": [
    "from bs4 import BeautifulSoup\n",
    "from unidecode import unidecode"
   ]
  },
  {
   "cell_type": "code",
   "execution_count": 52,
   "metadata": {},
   "outputs": [
    {
     "data": {
      "text/plain": [
       "<WordListCorpusReader in '/home/zaonx/nltk_data/corpora/stopwords'>"
      ]
     },
     "execution_count": 52,
     "metadata": {},
     "output_type": "execute_result"
    }
   ],
   "source": [
    "stopwords\n"
   ]
  },
  {
   "cell_type": "code",
   "execution_count": 53,
   "metadata": {},
   "outputs": [],
   "source": [
    "# function to remove user handles\n",
    "def remove_pattern (input_txt , pattern):\n",
    "    r = re.findall(pattern, str(input_txt))\n",
    "    # remove user handles\n",
    "    for match in r:\n",
    "        input_txt= re.sub(match, '', input_txt)\n",
    "    return input_txt\n",
    "\n",
    "def remove_non_ascii1(text):\n",
    "    input_txt = ''.join([i if ord(i) < 128 else ' ' for i in text])\n",
    "    input_txt = re.sub(r'[^\\x00-\\x7F]+','', input_txt)\n",
    "    return input_txt\n",
    "\n",
    "\n",
    "def handleSmiley(tweet):\n",
    "    words = tweet.split()\n",
    "    reformed = [SMILEY[word] if word in SMILEY else word for word in words]\n",
    "    tweet = \" \".join(reformed)\n",
    "    return tweet\n",
    "\n",
    "_regex =[\"_\", \"@[\\w]*\", \"#\",\"http[s]?://(?:[a-zA-Z]|[0-9]|[$-_@.&+]|[!*\\(\\),]|(?:%[0-9a-fA-F][0-9a-fA-F]))\",\"RT[\\s]+\" ]\n",
    "\n",
    "def cleanData(data):\n",
    "    for reg in _regex:\n",
    "        data= data.apply(lambda row:remove_pattern(row, reg))\n",
    "        \n",
    "#     data = data.apply(lambda row : BeautifulSoup(row, \"lxml\").text ) #remove html enuty\n",
    "    data = data.apply(lambda row:remove_non_ascii1(str(row)))\n",
    "    return data\n",
    "\n",
    "df_train['tokenized_text'] = cleanData(df_train['total'])"
   ]
  },
  {
   "cell_type": "code",
   "execution_count": 54,
   "metadata": {},
   "outputs": [
    {
     "name": "stderr",
     "output_type": "stream",
     "text": [
      "[nltk_data] Downloading package punkt to /home/zaonx/nltk_data...\n",
      "[nltk_data]   Package punkt is already up-to-date!\n"
     ]
    }
   ],
   "source": [
    "import nltk\n",
    "nltk.download('punkt')\n",
    "def tokenizeData(_data):\n",
    "    _data['tokenized_text'] = _data['tokenized_text'].str.lower() \n",
    "    _data['tokenized_text']= _data['tokenized_text'].apply(lambda x: x.strip())\n",
    "    _data['tokenized_text']= _data['tokenized_text'].apply(lambda row:word_tokenize(row))\n",
    "    _data['tokenized_text'] = _data['tokenized_text'].apply(lambda row:[word for word in row if len(word) > 2])\n",
    "    _data['tokenized_text'] = _data['tokenized_text'].apply(lambda row:[word for word in row if word not in stop_words])\n",
    "    # lemmatizing words\n",
    "    lamme = WordNetLemmatizer()\n",
    "    # stemming words\n",
    "    stemmer = PorterStemmer()\n",
    "    _data['tokenized_text']= _data['tokenized_text'].apply(lambda x: [stemmer.stem(i) for i in x])\n",
    "    _data['tokenized_text']= _data['tokenized_text'].apply(lambda x: [lamme.lemmatize(i) for i in x])\n",
    "\n",
    "    _data['tokenized_text'] = _data['tokenized_text'].apply(lambda x: ' '.join(x))\n",
    "    _data['tokenized_text'] = _data['tokenized_text'].apply(lambda x: unidecode(x))\n",
    "\n",
    "    return _data\n",
    "df_train = tokenizeData(df_train)\n",
    "df_validation['tokenized_text'] = cleanData(df_validation['total'])\n",
    "df_validation = tokenizeData(df_validation)"
   ]
  },
  {
   "cell_type": "code",
   "execution_count": 55,
   "metadata": {},
   "outputs": [],
   "source": [
    "# import libraries\n",
    "from sklearn.pipeline import Pipeline\n",
    "from sklearn.model_selection import train_test_split as tts, GridSearchCV\n",
    "from sklearn.feature_extraction.text import CountVectorizer, TfidfVectorizer, TfidfTransformer"
   ]
  },
  {
   "cell_type": "code",
   "execution_count": 56,
   "metadata": {},
   "outputs": [],
   "source": [
    "# tdf = TfidfVectorizer(stop_words='english',ngram_range=(1,2))\n",
    "# vectorizer = tdf.fit(df_train['tokenized_text'])\n",
    "# transformed_text = vectorizer.transform(df_train['tokenized_text'])\n",
    "# transformed_title = vectorizer.transform(df_train['title'].values.astype('U'))"
   ]
  },
  {
   "cell_type": "code",
   "execution_count": 57,
   "metadata": {},
   "outputs": [],
   "source": [
    "# def get_tfidf_term_scores(feature_names):\n",
    "#     '''Returns dictionary with term names and total tfidf scores for all terms in corpus'''\n",
    "#     term_corpus_dict = {}\n",
    "#     # iterate through term index and term \n",
    "#     for term_ind, term in enumerate(feature_names):\n",
    "#         term_name = feature_names[term_ind]\n",
    "#         term_corpus_dict[term_name] = np.sum(transformed_title.T[term_ind].toarray())\n",
    "        \n",
    "#     return term_corpus_dict"
   ]
  },
  {
   "cell_type": "code",
   "execution_count": 58,
   "metadata": {},
   "outputs": [],
   "source": [
    "# #list of features created by tfidf\n",
    "# feature_names = tdf.get_feature_names()"
   ]
  },
  {
   "cell_type": "code",
   "execution_count": 59,
   "metadata": {},
   "outputs": [],
   "source": [
    "# term_corpus_dict = get_tfidf_term_scores(feature_names)\n"
   ]
  },
  {
   "cell_type": "code",
   "execution_count": 60,
   "metadata": {},
   "outputs": [],
   "source": [
    "# def get_sorted_tfidf_scores(term_corpus_dict):\n",
    "#     '''Returns sort words from highest score to lowest score'''\n",
    "#     # sort indices from words wit highest score to lowest score\n",
    "#     sortedIndices = np.argsort( list(term_corpus_dict.values()))[::-1]\n",
    "#     # move words and score out of dicts and into arrays\n",
    "#     termNames = np.array(list(term_corpus_dict.keys()))\n",
    "#     scores = np.array(list(term_corpus_dict.values()))\n",
    "#     # sort words and scores\n",
    "#     termNames = termNames[sortedIndices]\n",
    "#     scores = scores[sortedIndices]\n",
    "    \n",
    "#     return termNames, scores\n",
    "\n"
   ]
  },
  {
   "cell_type": "code",
   "execution_count": 61,
   "metadata": {},
   "outputs": [],
   "source": [
    "# termNames, scores = get_sorted_tfidf_scores(term_corpus_dict)"
   ]
  },
  {
   "cell_type": "code",
   "execution_count": 62,
   "metadata": {},
   "outputs": [],
   "source": [
    "# def plot_tfidf_scores(scores,termNames, n_words = 18):\n",
    "#     '''Returns one plot for Importance of Top N Terms\n",
    "#        and one plot for Importance of Select K Terms'''\n",
    "\n",
    "#     # Create a figure instance, and the two subplots\n",
    "#     fig = plt.figure(figsize = (14, 18))\n",
    "    \n",
    "#     override = {'fontsize': 'large'}\n",
    "\n",
    "#     fig.add_subplot(221)   \n",
    "#     n_words = 75\n",
    "#     sb.set()\n",
    "#     sb.barplot(x = scores[:n_words], y = termNames[:n_words]);\n",
    "#     plt.title(\" Top tfidf score words\".format(n_words));\n",
    "#     plt.xlabel(\"TFIDF Score\");"
   ]
  },
  {
   "cell_type": "code",
   "execution_count": 63,
   "metadata": {},
   "outputs": [],
   "source": [
    "# plot_tfidf_scores(scores, termNames, n_words = 18)"
   ]
  },
  {
   "cell_type": "code",
   "execution_count": 64,
   "metadata": {},
   "outputs": [],
   "source": [
    "X_train, X_test, y_train, y_test = tts(df_train['tokenized_text'],df_train['label'],test_size = 0.2,random_state = 0)"
   ]
  },
  {
   "cell_type": "code",
   "execution_count": 65,
   "metadata": {},
   "outputs": [],
   "source": [
    "_decisionTree = DecisionTreeClassifier()\n",
    "_gaussian = GaussianNB()\n",
    "_svc=svm.LinearSVC(C=1.0)\n",
    "_randomForest = RandomForestClassifier(bootstrap=True, class_weight=None,\n",
    "                       criterion='gini', max_depth=None, max_features='auto',\n",
    "                       max_leaf_nodes=None, \n",
    "                       min_impurity_decrease=0.0, min_impurity_split=None,\n",
    "                       min_samples_leaf=1, min_samples_split=2,\n",
    "                       min_weight_fraction_leaf=0.0, n_estimators=100,\n",
    "                       n_jobs=None, oob_score=False, random_state=None,\n",
    "                       verbose=0, warm_start=False)\n",
    "_decisionTree = DecisionTreeClassifier(class_weight=None, criterion='gini',\n",
    "                       max_depth=None, max_features=None, max_leaf_nodes=None,\n",
    "                       min_impurity_decrease=0.0, min_impurity_split=None,\n",
    "                       min_samples_leaf=1, min_samples_split=2,\n",
    "                       min_weight_fraction_leaf=0.0, \n",
    "                       random_state=None, splitter='best')\n",
    "_baggingClassifier = BaggingClassifier(base_estimator=DecisionTreeClassifier(\n",
    "                                                        class_weight=None,\n",
    "                                                        criterion='gini',\n",
    "                                                        max_depth=None,\n",
    "                                                        max_features=None,\n",
    "                                                        max_leaf_nodes=None,\n",
    "                                                        min_impurity_decrease=0.0,\n",
    "                                                        min_impurity_split=None,\n",
    "                                                        min_samples_leaf=1,\n",
    "                                                        min_samples_split=2,\n",
    "                                                        min_weight_fraction_leaf=0.0,\n",
    "                                                        random_state=None,\n",
    "                                                        splitter='best'),\n",
    "                  bootstrap=True, bootstrap_features=False, max_features=1.0,\n",
    "                  max_samples=1.0, n_estimators=10, n_jobs=None,\n",
    "                  oob_score=False, random_state=0, verbose=0, warm_start=False)\n",
    "_logisticRegression = LogisticRegression(C=1.0, class_weight=None, dual=False, fit_intercept=True,\n",
    "                   intercept_scaling=1, max_iter=150,\n",
    "                   multi_class='auto', n_jobs=None, penalty='l2',\n",
    "                   random_state=None, solver='liblinear', tol=0.0001, verbose=0,\n",
    "                   warm_start=False)\n",
    "_xgBoost = XGBClassifier(base_score=0.5, booster='gbtree', colsample_bylevel=1,\n",
    "              colsample_bynode=1, colsample_bytree=0.8045997961875188,\n",
    "              gamma=0.04808827554571038, learning_rate=0.31215697934688114,\n",
    "              max_delta_step=0, max_depth=5, min_child_weight=1, missing=None,\n",
    "              n_estimators=138, n_jobs=1, nthread=None,\n",
    "              objective='binary:logistic', random_state=0, reg_alpha=0,\n",
    "              reg_lambda=1, scale_pos_weight=1, seed=None, silent=None,\n",
    "              subsample=0.9746919954946938, verbosity=1)\n",
    "_gradientBoost = GradientBoostingClassifier(criterion='friedman_mse',\n",
    "                                                  init=None, learning_rate=0.1,\n",
    "                                                  loss='deviance', max_depth=8,\n",
    "                                                  max_features='sqrt',\n",
    "                                                  max_leaf_nodes=None,\n",
    "                                                  min_impurity_decrease=0.0,\n",
    "                                                  min_impurity_split=None,\n",
    "                                                  min_samples_leaf=50,\n",
    "                                                  min_samples_split=500,\n",
    "                                                  min_weight_fraction_leaf=0.0,\n",
    "                                                  n_estimators=100,\n",
    "                                                  n_iter_no_change=None,\n",
    "                                                  random_state=10,\n",
    "                                                  subsample=0.8, tol=0.0001,\n",
    "                                                  validation_fraction=0.1,\n",
    "                                                  verbose=0, warm_start=False)"
   ]
  },
  {
   "cell_type": "code",
   "execution_count": 66,
   "metadata": {},
   "outputs": [],
   "source": [
    "def setModels(_model, _exportTo, _name):\n",
    "    print(\"*\"*10+_name+\"*\"*10)\n",
    "    dt_pipeline = Pipeline([('vect', CountVectorizer()),('tfidf', TfidfTransformer()),('clf', _model)])\n",
    "    dt_pipeline.fit(X_train, y_train)\n",
    "    dt_predicted = dt_pipeline.predict(X_test)\n",
    "    print(accuracy_score(dt_predicted,y_test))\n",
    "    print(classification_report(y_test, dt_predicted))\n",
    "    test_predictions = dt_pipeline.predict(df_validation['tokenized_text'])\n",
    "    output = pd.DataFrame({'id': df_validation['id'],'label': test_predictions})\n",
    "    output.to_csv(_exportTo, index=False)\n",
    "    "
   ]
  },
  {
   "cell_type": "code",
   "execution_count": 67,
   "metadata": {},
   "outputs": [
    {
     "name": "stdout",
     "output_type": "stream",
     "text": [
      "**********decisionTree**********\n",
      "0.9502403846153846\n",
      "              precision    recall  f1-score   support\n",
      "\n",
      "           0       0.95      0.95      0.95      2046\n",
      "           1       0.95      0.95      0.95      2114\n",
      "\n",
      "    accuracy                           0.95      4160\n",
      "   macro avg       0.95      0.95      0.95      4160\n",
      "weighted avg       0.95      0.95      0.95      4160\n",
      "\n",
      "**********svc**********\n",
      "0.9735576923076923\n",
      "              precision    recall  f1-score   support\n",
      "\n",
      "           0       0.97      0.97      0.97      2046\n",
      "           1       0.97      0.98      0.97      2114\n",
      "\n",
      "    accuracy                           0.97      4160\n",
      "   macro avg       0.97      0.97      0.97      4160\n",
      "weighted avg       0.97      0.97      0.97      4160\n",
      "\n",
      "**********randomForest**********\n",
      "0.9384615384615385\n",
      "              precision    recall  f1-score   support\n",
      "\n",
      "           0       0.91      0.96      0.94      2046\n",
      "           1       0.96      0.91      0.94      2114\n",
      "\n",
      "    accuracy                           0.94      4160\n",
      "   macro avg       0.94      0.94      0.94      4160\n",
      "weighted avg       0.94      0.94      0.94      4160\n",
      "\n",
      "**********baggingClassifier**********\n",
      "0.9632211538461538\n",
      "              precision    recall  f1-score   support\n",
      "\n",
      "           0       0.96      0.97      0.96      2046\n",
      "           1       0.97      0.96      0.96      2114\n",
      "\n",
      "    accuracy                           0.96      4160\n",
      "   macro avg       0.96      0.96      0.96      4160\n",
      "weighted avg       0.96      0.96      0.96      4160\n",
      "\n",
      "**********logisticRegression**********\n",
      "0.9596153846153846\n",
      "              precision    recall  f1-score   support\n",
      "\n",
      "           0       0.96      0.96      0.96      2046\n",
      "           1       0.96      0.96      0.96      2114\n",
      "\n",
      "    accuracy                           0.96      4160\n",
      "   macro avg       0.96      0.96      0.96      4160\n",
      "weighted avg       0.96      0.96      0.96      4160\n",
      "\n",
      "**********xgBoost**********\n",
      "0.9786057692307693\n",
      "              precision    recall  f1-score   support\n",
      "\n",
      "           0       0.98      0.98      0.98      2046\n",
      "           1       0.98      0.98      0.98      2114\n",
      "\n",
      "    accuracy                           0.98      4160\n",
      "   macro avg       0.98      0.98      0.98      4160\n",
      "weighted avg       0.98      0.98      0.98      4160\n",
      "\n",
      "**********gradientBoost**********\n",
      "0.9487980769230769\n",
      "              precision    recall  f1-score   support\n",
      "\n",
      "           0       0.95      0.95      0.95      2046\n",
      "           1       0.95      0.95      0.95      2114\n",
      "\n",
      "    accuracy                           0.95      4160\n",
      "   macro avg       0.95      0.95      0.95      4160\n",
      "weighted avg       0.95      0.95      0.95      4160\n",
      "\n"
     ]
    }
   ],
   "source": [
    "setModels(_decisionTree, 'submissions/submission_dtc.csv', \"decisionTree\")\n",
    "#setModels(_gaussian, 'submissions/submission_gaussian.csv', \"gaussian\")\n",
    "setModels(_svc, 'submissions/submission_svc.csv', \"svc\")\n",
    "setModels(_randomForest, 'submissions/submission_ranfor.csv', \"randomForest\")\n",
    "setModels(_baggingClassifier, 'submissions/submission_baggClass.csv', \"baggingClassifier\")\n",
    "setModels(_logisticRegression, 'submissions/submission_logreg.csv', \"logisticRegression\")\n",
    "setModels(_xgBoost, 'submissions/submission_xgboost.csv', \"xgBoost\")\n",
    "setModels(_gradientBoost, 'submissions/submission_gradientboost.csv', \"gradientBoost\")\n"
   ]
  },
  {
   "cell_type": "code",
   "execution_count": null,
   "metadata": {},
   "outputs": [],
   "source": []
  },
  {
   "cell_type": "code",
   "execution_count": null,
   "metadata": {},
   "outputs": [],
   "source": []
  },
  {
   "cell_type": "code",
   "execution_count": null,
   "metadata": {},
   "outputs": [],
   "source": []
  },
  {
   "cell_type": "code",
   "execution_count": null,
   "metadata": {},
   "outputs": [],
   "source": []
  },
  {
   "cell_type": "code",
   "execution_count": null,
   "metadata": {},
   "outputs": [],
   "source": []
  },
  {
   "cell_type": "code",
   "execution_count": null,
   "metadata": {},
   "outputs": [],
   "source": []
  },
  {
   "cell_type": "code",
   "execution_count": null,
   "metadata": {},
   "outputs": [],
   "source": []
  },
  {
   "cell_type": "code",
   "execution_count": null,
   "metadata": {},
   "outputs": [],
   "source": []
  }
 ],
 "metadata": {
  "kernelspec": {
   "display_name": "Python 3",
   "language": "python",
   "name": "python3"
  },
  "language_info": {
   "codemirror_mode": {
    "name": "ipython",
    "version": 3
   },
   "file_extension": ".py",
   "mimetype": "text/x-python",
   "name": "python",
   "nbconvert_exporter": "python",
   "pygments_lexer": "ipython3",
   "version": "3.7.4"
  }
 },
 "nbformat": 4,
 "nbformat_minor": 2
}
